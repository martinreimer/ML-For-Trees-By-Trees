{
 "cells": [
  {
   "cell_type": "markdown",
   "metadata": {},
   "source": [
    "Visualizes the sensor locations from climavi_sensor_table csv as a html map with openmeteo"
   ]
  },
  {
   "cell_type": "code",
   "execution_count": 1,
   "metadata": {},
   "outputs": [],
   "source": [
    "import pandas as pd\n",
    "import folium"
   ]
  },
  {
   "cell_type": "code",
   "execution_count": null,
   "metadata": {},
   "outputs": [],
   "source": [
    "\n",
    "# Load the CSV data\n",
    "sensors_df = pd.read_csv('../../data/climavi_sensor_table.csv')\n",
    "# drop nan\n",
    "#sensors_df = sensors_df.dropna()\n",
    "sensors_df"
   ]
  },
  {
   "cell_type": "code",
   "execution_count": null,
   "metadata": {},
   "outputs": [],
   "source": [
    "\n",
    "# Create a base map, more zoomed in\n",
    "m = folium.Map(location=[50, 10], zoom_start=8)  # Adjust the zoom_start for more zoom\n",
    "\n",
    "# Add points to the map\n",
    "for idx, row in sensors_df.iterrows():\n",
    "    if row['is_weather_station']:\n",
    "        if row['is_favorite']:\n",
    "            icon = folium.Icon(color='red', icon='cloud')\n",
    "        else:\n",
    "            icon = folium.Icon(color='blue', icon='cloud')\n",
    "    else:\n",
    "        if row['is_favorite']:\n",
    "            icon = folium.Icon(color='red', icon='tree')\n",
    "        else:\n",
    "            icon = folium.Icon(color='green', icon='tree')\n",
    "    \n",
    "    folium.Marker([row['latitude'], row['longitude']], tooltip=row['label'], icon=icon).add_to(m)\n",
    "\n",
    "# Display the map\n",
    "m.save('map.html')\n",
    "m"
   ]
  },
  {
   "cell_type": "code",
   "execution_count": null,
   "metadata": {},
   "outputs": [],
   "source": [
    "\n",
    "# Create a base map, more zoomed in\n",
    "m = folium.Map(location=[50, 10], zoom_start=8)  # Adjust the zoom_start for more zoom\n",
    "\n",
    "# Add points to the map\n",
    "for idx, row in sensors_df.iterrows():\n",
    "    list_of_nice_sensors = [\n",
    "        'Baum Bohlenplatz',\n",
    "        'Baum Flachsweg',\n",
    "        'Baum Ludwig Erh. Str.',\n",
    "        'Baum Max Busch',\n",
    "        'Baum Obi Kreisel',\n",
    "        'Baum Ohmplatz',\n",
    "        'Baum Paul Gossen',\n",
    "        'Baum Rheinstr.',\n",
    "        #'Baum Sparkassenweiher',\n",
    "    ]\n",
    "    if row['label'] == \"Baum Sparkassenweiher\":\n",
    "        print(row['label'])\n",
    "        icon = folium.Icon(color='green', icon='tree')\n",
    "    elif row['label'] in list_of_nice_sensors:\n",
    "        print(row['label'])\n",
    "        icon = folium.Icon(color='orange', icon='tree')\n",
    "    else:\n",
    "        continue#icon = folium.Icon(color='red', icon='tree')\n",
    "    folium.Marker([row['latitude'], row['longitude']], tooltip=row['label'], icon=icon).add_to(m)\n",
    "\n",
    "# Display the map\n",
    "m.save('map.html')\n",
    "m"
   ]
  }
 ],
 "metadata": {
  "kernelspec": {
   "display_name": "madlabproj",
   "language": "python",
   "name": "python3"
  },
  "language_info": {
   "codemirror_mode": {
    "name": "ipython",
    "version": 3
   },
   "file_extension": ".py",
   "mimetype": "text/x-python",
   "name": "python",
   "nbconvert_exporter": "python",
   "pygments_lexer": "ipython3",
   "version": "3.12.3"
  }
 },
 "nbformat": 4,
 "nbformat_minor": 2
}
